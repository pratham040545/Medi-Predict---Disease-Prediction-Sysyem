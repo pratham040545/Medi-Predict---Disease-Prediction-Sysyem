{
 "cells": [
  {
   "cell_type": "markdown",
   "id": "ecc3b644",
   "metadata": {},
   "source": [
    "# AI-Powered Symptom Checker: Data Exploration\n",
    "\n",
    "This notebook will help you explore and understand the datasets in the `data` folder. We will load, inspect, and summarize the CSV files to prepare for further preprocessing and modeling."
   ]
  },
  {
   "cell_type": "code",
   "execution_count": 1,
   "id": "5d4a205b",
   "metadata": {},
   "outputs": [],
   "source": [
    "# Import Required Libraries\n",
    "import pandas as pd\n",
    "import os"
   ]
  },
  {
   "cell_type": "code",
   "execution_count": 2,
   "id": "ff86ead2",
   "metadata": {},
   "outputs": [],
   "source": [
    "# Set Data Folder Path\n",
    "data_folder = 'data'"
   ]
  },
  {
   "cell_type": "code",
   "execution_count": 3,
   "id": "3c3d2326",
   "metadata": {},
   "outputs": [
    {
     "name": "stdout",
     "output_type": "stream",
     "text": [
      "Found CSV files: ['Symptom-severity.csv', 'new_p.csv', 'disease_centric_knowledgebase_with_doctor.csv', 'symptom_Description.csv']\n"
     ]
    }
   ],
   "source": [
    "# List CSV Files in Data Folder\n",
    "csv_files = [f for f in os.listdir(data_folder) if f.endswith('.csv')]\n",
    "print('Found CSV files:', csv_files)"
   ]
  },
  {
   "cell_type": "code",
   "execution_count": 4,
   "id": "35d45606",
   "metadata": {},
   "outputs": [],
   "source": [
    "# Define Function to Explore CSV Files\n",
    "def explore_csv(file_path):\n",
    "    print(f'\\nExploring {file_path}')\n",
    "    df = pd.read_csv(file_path)\n",
    "    print('Shape:', df.shape)\n",
    "    print('Columns:', df.columns.tolist())\n",
    "    print('First 5 rows:')\n",
    "    print(df.head())\n",
    "    print('Missing values per column:')\n",
    "    print(df.isnull().sum())\n",
    "    print('-' * 40)"
   ]
  },
  {
   "cell_type": "code",
   "execution_count": 5,
   "id": "0260f951",
   "metadata": {},
   "outputs": [
    {
     "name": "stdout",
     "output_type": "stream",
     "text": [
      "\n",
      "Exploring data/Symptom-severity.csv\n",
      "Shape: (133, 2)\n",
      "Columns: ['Symptom', 'weight']\n",
      "First 5 rows:\n",
      "                Symptom  weight\n",
      "0               itching       1\n",
      "1             skin_rash       3\n",
      "2  nodal_skin_eruptions       4\n",
      "3   continuous_sneezing       4\n",
      "4             shivering       5\n",
      "Missing values per column:\n",
      "Symptom    0\n",
      "weight     0\n",
      "dtype: int64\n",
      "----------------------------------------\n",
      "\n",
      "Exploring data/new_p.csv\n",
      "Shape: (100000, 137)\n",
      "Columns: ['abdominal_pain', 'abnormal_menstruation', 'acidity', 'acute_liver_failure', 'altered_sensorium', 'anxiety', 'back_pain', 'belly_pain', 'blackheads', 'bladder_discomfort', 'blister', 'blood_in_sputum', 'bloody_stool', 'blurred_and_distorted_vision', 'breathlessness', 'brittle_nails', 'bruising', 'burning_micturition', 'chest_pain', 'chills', 'cold_hands_and_feets', 'coma', 'congestion', 'constipation', 'continuous_feel_of_urine', 'continuous_sneezing', 'cough', 'cramps', 'dark_urine', 'dehydration', 'depression', 'diarrhoea', 'dischromic__patches', 'distention_of_abdomen', 'dizziness', 'drying_and_tingling_lips', 'enlarged_thyroid', 'excessive_hunger', 'extra_marital_contacts', 'family_history', 'fast_heart_rate', 'fatigue', 'fluid_overload', 'foul_smell_of_urine', 'headache', 'high_fever', 'hip_joint_pain', 'history_of_alcohol_consumption', 'increased_appetite', 'indigestion', 'inflammatory_nails', 'internal_itching', 'irregular_sugar_level', 'irritability', 'irritation_in_anus', 'itching', 'joint_pain', 'knee_pain', 'lack_of_concentration', 'lethargy', 'loss_of_appetite', 'loss_of_balance', 'loss_of_smell', 'malaise', 'mild_fever', 'mood_swings', 'movement_stiffness', 'mucoid_sputum', 'muscle_pain', 'muscle_wasting', 'muscle_weakness', 'nausea', 'neck_pain', 'nodal_skin_eruptions', 'obesity', 'pain_behind_the_eyes', 'pain_during_bowel_movements', 'pain_in_anal_region', 'painful_walking', 'palpitations', 'passage_of_gases', 'patches_in_throat', 'phlegm', 'polyuria', 'prominent_veins_on_calf', 'puffy_face_and_eyes', 'pus_filled_pimples', 'receiving_blood_transfusion', 'receiving_unsterile_injections', 'red_sore_around_nose', 'red_spots_over_body', 'redness_of_eyes', 'restlessness', 'runny_nose', 'rusty_sputum', 'scurring', 'shivering', 'silver_like_dusting', 'sinus_pressure', 'skin_peeling', 'skin_rash', 'slurred_speech', 'small_dents_in_nails', 'spinning_movements', 'spotting__urination', 'stiff_neck', 'stomach_bleeding', 'stomach_pain', 'sunken_eyes', 'sweating', 'swelled_lymph_nodes', 'swelling_joints', 'swelling_of_stomach', 'swollen_blood_vessels', 'swollen_extremeties', 'swollen_legs', 'throat_irritation', 'toxic_look_(typhos)', 'ulcers_on_tongue', 'unsteadiness', 'visual_disturbances', 'vomiting', 'watering_from_eyes', 'weakness_in_limbs', 'weakness_of_one_body_side', 'weight_gain', 'weight_loss', 'yellow_crust_ooze', 'yellow_urine', 'yellowing_of_eyes', 'yellowish_skin', 'age', 'gender', 'disease', 'precaution', 'doctor_type', 'total_symptoms']\n",
      "First 5 rows:\n",
      "   abdominal_pain  abnormal_menstruation  acidity  acute_liver_failure  \\\n",
      "0               1                      0        0                    0   \n",
      "1               0                      0        0                    0   \n",
      "2               0                      0        0                    0   \n",
      "3               1                      0        0                    0   \n",
      "4               1                      0        0                    0   \n",
      "\n",
      "   altered_sensorium  anxiety  back_pain  belly_pain  blackheads  \\\n",
      "0                  0        0          0           1           0   \n",
      "1                  0        1          0           0           0   \n",
      "2                  0        0          0           0           0   \n",
      "3                  0        0          0           1           0   \n",
      "4                  0        0          0           0           0   \n",
      "\n",
      "   bladder_discomfort  ...  yellow_crust_ooze  yellow_urine  \\\n",
      "0                   0  ...                  0             0   \n",
      "1                   0  ...                  0             0   \n",
      "2                   0  ...                  0             0   \n",
      "3                   0  ...                  0             0   \n",
      "4                   0  ...                  0             0   \n",
      "\n",
      "   yellowing_of_eyes  yellowish_skin  age  gender       disease  \\\n",
      "0                  0               0    8       M       typhoid   \n",
      "1                  0               0   77       M  tuberculosis   \n",
      "2                  0               0   88       M     arthritis   \n",
      "3                  0               0    7       M       typhoid   \n",
      "4                  0               0   45       M   hepatitis a   \n",
      "\n",
      "                                          precaution         doctor_type  \\\n",
      "0  eat high calorie vegitables, antiboitic therap...   General Physician   \n",
      "1      cover mouth, consult doctor, medication, rest       Pulmonologist   \n",
      "2  exercise, use hot and cold therapy, try acupun...      Rheumatologist   \n",
      "3  eat high calorie vegitables, antiboitic therap...   General Physician   \n",
      "4  Consult nearest hospital, wash hands through, ...  Gastroenterologist   \n",
      "\n",
      "   total_symptoms  \n",
      "0              10  \n",
      "1              17  \n",
      "2               5  \n",
      "3               9  \n",
      "4               9  \n",
      "\n",
      "[5 rows x 137 columns]\n",
      "Missing values per column:\n",
      "abdominal_pain           0\n",
      "abnormal_menstruation    0\n",
      "acidity                  0\n",
      "acute_liver_failure      0\n",
      "altered_sensorium        0\n",
      "                        ..\n",
      "gender                   0\n",
      "disease                  0\n",
      "precaution               0\n",
      "doctor_type              0\n",
      "total_symptoms           0\n",
      "Length: 137, dtype: int64\n",
      "----------------------------------------\n",
      "\n",
      "Exploring data/disease_centric_knowledgebase_with_doctor.csv\n",
      "Shape: (4920, 4)\n",
      "Columns: ['disease', 'symptom_list', 'precaution', 'doctor_type']\n",
      "First 5 rows:\n",
      "            disease                                       symptom_list  \\\n",
      "0  Fungal Infection  dischromic__patches, itching, nodal_skin_erupt...   \n",
      "1  Fungal Infection  dischromic__patches, nodal_skin_eruptions, ski...   \n",
      "2  Fungal Infection  dischromic__patches, itching, nodal_skin_erupt...   \n",
      "3  Fungal Infection            dischromic__patches, itching, skin_rash   \n",
      "4  Fungal Infection           itching, nodal_skin_eruptions, skin_rash   \n",
      "\n",
      "                                          precaution    doctor_type  \n",
      "0  bath twice, use detol or neem in bathing water...  Dermatologist  \n",
      "1  bath twice, use detol or neem in bathing water...  Dermatologist  \n",
      "2  bath twice, use detol or neem in bathing water...  Dermatologist  \n",
      "3  bath twice, use detol or neem in bathing water...  Dermatologist  \n",
      "4  bath twice, use detol or neem in bathing water...  Dermatologist  \n",
      "Missing values per column:\n",
      "disease         0\n",
      "symptom_list    0\n",
      "precaution      0\n",
      "doctor_type     0\n",
      "dtype: int64\n",
      "----------------------------------------\n",
      "\n",
      "Exploring data/symptom_Description.csv\n",
      "Shape: (41, 2)\n",
      "Columns: ['Disease', 'Description']\n",
      "First 5 rows:\n",
      "          Disease                                        Description\n",
      "0   Drug Reaction  An adverse drug reaction (ADR) is an injury ca...\n",
      "1         Malaria  An infectious disease caused by protozoan para...\n",
      "2         Allergy  An allergy is an immune system response to a f...\n",
      "3  Hypothyroidism  Hypothyroidism, also called underactive thyroi...\n",
      "4       Psoriasis  Psoriasis is a common skin disorder that forms...\n",
      "Missing values per column:\n",
      "Disease        0\n",
      "Description    0\n",
      "dtype: int64\n",
      "----------------------------------------\n"
     ]
    }
   ],
   "source": [
    "# Explore All CSV Files in Folder\n",
    "for csv_file in csv_files:\n",
    "    explore_csv(os.path.join(data_folder, csv_file))"
   ]
  },
  {
   "cell_type": "markdown",
   "id": "342e4aee",
   "metadata": {},
   "source": [
    "# Data Preprocessing\n",
    "\n",
    "Now that we have explored the data, the next step is to preprocess it. Data preprocessing involves cleaning and transforming the data so it can be used to train a machine learning model. This includes handling missing values, standardizing text, and encoding categorical variables."
   ]
  },
  {
   "cell_type": "markdown",
   "id": "8dfa0ee5",
   "metadata": {},
   "source": [
    "## 1. Handling Missing Values\n",
    "\n",
    "Missing values can cause problems for machine learning models. We need to check for missing data and decide how to handle it (e.g., fill with a default value or remove rows/columns with too many missing values)."
   ]
  },
  {
   "cell_type": "code",
   "execution_count": 6,
   "id": "1db5338e",
   "metadata": {},
   "outputs": [
    {
     "name": "stdout",
     "output_type": "stream",
     "text": [
      "Loaded Symptom-severity.csv with shape (133, 2)\n",
      "Loaded new_p.csv with shape (100000, 137)\n",
      "Loaded disease_centric_knowledgebase_with_doctor.csv with shape (4920, 4)\n",
      "Loaded symptom_Description.csv with shape (41, 2)\n"
     ]
    }
   ],
   "source": [
    "# Reload all CSV files into dataframes for preprocessing\n",
    "all_dfs = {}\n",
    "for csv_file in csv_files:\n",
    "    df = pd.read_csv(os.path.join(data_folder, csv_file))\n",
    "    all_dfs[csv_file] = df\n",
    "    print(f\"Loaded {csv_file} with shape {df.shape}\")"
   ]
  },
  {
   "cell_type": "code",
   "execution_count": 7,
   "id": "92652969",
   "metadata": {},
   "outputs": [
    {
     "name": "stdout",
     "output_type": "stream",
     "text": [
      "\n",
      "Missing values in Symptom-severity.csv:\n",
      "Symptom    0\n",
      "weight     0\n",
      "dtype: int64\n",
      "\n",
      "Missing values in new_p.csv:\n",
      "abdominal_pain           0\n",
      "abnormal_menstruation    0\n",
      "acidity                  0\n",
      "acute_liver_failure      0\n",
      "altered_sensorium        0\n",
      "                        ..\n",
      "gender                   0\n",
      "disease                  0\n",
      "precaution               0\n",
      "doctor_type              0\n",
      "total_symptoms           0\n",
      "Length: 137, dtype: int64\n",
      "\n",
      "Missing values in disease_centric_knowledgebase_with_doctor.csv:\n",
      "disease         0\n",
      "symptom_list    0\n",
      "precaution      0\n",
      "doctor_type     0\n",
      "dtype: int64\n",
      "\n",
      "Missing values in symptom_Description.csv:\n",
      "Disease        0\n",
      "Description    0\n",
      "dtype: int64\n"
     ]
    }
   ],
   "source": [
    "# Check missing values in each dataframe\n",
    "for name, df in all_dfs.items():\n",
    "    print(f\"\\nMissing values in {name}:\")\n",
    "    print(df.isnull().sum())"
   ]
  },
  {
   "cell_type": "markdown",
   "id": "591b684b",
   "metadata": {},
   "source": [
    "## 2. Standardizing Text Data\n",
    "\n",
    "To ensure consistency, we will standardize all text data (such as symptom and disease names) by converting them to lowercase and stripping extra spaces. This helps avoid issues caused by different capitalizations or accidental spaces."
   ]
  },
  {
   "cell_type": "code",
   "execution_count": 8,
   "id": "bec1da3d",
   "metadata": {},
   "outputs": [
    {
     "name": "stdout",
     "output_type": "stream",
     "text": [
      "Standardized text columns in Symptom-severity.csv\n",
      "Standardized text columns in new_p.csv\n",
      "Standardized text columns in disease_centric_knowledgebase_with_doctor.csv\n",
      "Standardized text columns in symptom_Description.csv\n"
     ]
    }
   ],
   "source": [
    "# Standardize all string columns in each dataframe\n",
    "for name, df in all_dfs.items():\n",
    "    for col in df.select_dtypes(include='object').columns:\n",
    "        df[col] = df[col].astype(str).str.lower().str.strip()\n",
    "    all_dfs[name] = df\n",
    "    print(f\"Standardized text columns in {name}\")"
   ]
  },
  {
   "cell_type": "markdown",
   "id": "087e44c9",
   "metadata": {},
   "source": [
    "## 3. Encoding Categorical Variables\n",
    "\n",
    "Machine learning models work with numbers, not text. We need to convert categorical columns (like disease or symptom names) into numeric codes. This is called encoding. We'll use label encoding for this step."
   ]
  },
  {
   "cell_type": "code",
   "execution_count": 9,
   "id": "2d797c15",
   "metadata": {},
   "outputs": [
    {
     "name": "stdout",
     "output_type": "stream",
     "text": [
      "Encoded categorical columns in Symptom-severity.csv\n",
      "Encoded categorical columns in new_p.csv\n",
      "Encoded categorical columns in disease_centric_knowledgebase_with_doctor.csv\n",
      "Encoded categorical columns in symptom_Description.csv\n"
     ]
    }
   ],
   "source": [
    "# Encode categorical variables using label encoding\n",
    "for name, df in all_dfs.items():\n",
    "    for col in df.select_dtypes(include='object').columns:\n",
    "        df[col + '_code'] = df[col].astype('category').cat.codes\n",
    "    all_dfs[name] = df\n",
    "    print(f\"Encoded categorical columns in {name}\")"
   ]
  },
  {
   "cell_type": "markdown",
   "id": "28bdc467",
   "metadata": {},
   "source": [
    "# Feature Selection and Model Building\n",
    "\n",
    "Now that our data is clean and numeric, the next step is to select the most relevant features (columns) for predicting diseases. After selecting features, we will build a simple machine learning model to predict diseases based on symptoms."
   ]
  }
 ],
 "metadata": {
  "kernelspec": {
   "display_name": "Python 3",
   "language": "python",
   "name": "python3"
  },
  "language_info": {
   "codemirror_mode": {
    "name": "ipython",
    "version": 3
   },
   "file_extension": ".py",
   "mimetype": "text/x-python",
   "name": "python",
   "nbconvert_exporter": "python",
   "pygments_lexer": "ipython3",
   "version": "3.11.0"
  }
 },
 "nbformat": 4,
 "nbformat_minor": 5
}
